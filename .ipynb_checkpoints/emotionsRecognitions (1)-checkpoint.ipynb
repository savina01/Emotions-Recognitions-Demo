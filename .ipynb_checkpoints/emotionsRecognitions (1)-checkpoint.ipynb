{
 "cells": [
  {
   "cell_type": "code",
   "execution_count": 1,
   "id": "58e1e6e8-3646-4f37-9847-cc926208b632",
   "metadata": {},
   "outputs": [],
   "source": [
    "import tensorflow as tf\n",
    "from tensorflow import keras\n",
    "from tensorflow.keras import layers\n",
    "from tensorflow.keras.preprocessing.image import ImageDataGenerator\n",
    "import cv2\n",
    "import os \n",
    "import matplotlib.pyplot as plt\n",
    "import numpy as np"
   ]
  },
  {
   "cell_type": "code",
   "execution_count": null,
   "id": "25136bd1-ad6b-4741-94ae-f6872d4d01e6",
   "metadata": {},
   "outputs": [],
   "source": [
    "# Normalise images to fall into the 0-1 range\n",
    "#X = (X/255)"
   ]
  },
  {
   "cell_type": "code",
   "execution_count": 2,
   "id": "b72e2114-b0e6-4c18-9dae-0d8daa60e71e",
   "metadata": {},
   "outputs": [],
   "source": [
    "# Load the base MobileNetV2 model\n",
    "model = tf.keras.applications.MobileNetV2()\n",
    "\n",
    "# Define base input and output\n",
    "base_input = model.input\n",
    "base_output = model.layers[-2].output  # Get output before the classification layer\n",
    "\n",
    "# Add new layers for fine-tuning\n",
    "final_output = layers.Dense(64)(base_output)  # Start with base_output here\n",
    "final_output = layers.Activation('relu')(final_output)\n",
    "final_output = layers.Dense(7, activation=\"softmax\")(final_output)\n",
    "\n",
    "# Create the new model\n",
    "modified_model = keras.Model(inputs = base_input, outputs = final_output)\n",
    "modified_model.compile(loss=\"sparse_categorical_crossentropy\", optimizer=\"adam\", metrics=[\"accuracy\"])"
   ]
  },
  {
   "cell_type": "code",
   "execution_count": null,
   "id": "4c824e2d-1728-4d5f-b493-c61009a364f5",
   "metadata": {},
   "outputs": [
    {
     "name": "stdout",
     "output_type": "stream",
     "text": [
      "Found 28709 images belonging to 7 classes.\n"
     ]
    },
    {
     "name": "stderr",
     "output_type": "stream",
     "text": [
      "C:\\Users\\Lenovo\\AppData\\Roaming\\Python\\Python39\\site-packages\\keras\\src\\trainers\\data_adapters\\py_dataset_adapter.py:121: UserWarning: Your `PyDataset` class should call `super().__init__(**kwargs)` in its constructor. `**kwargs` can include `workers`, `use_multiprocessing`, `max_queue_size`. Do not pass these arguments to `fit()`, as they will be ignored.\n",
      "  self._warn_if_super_not_called()\n"
     ]
    },
    {
     "name": "stdout",
     "output_type": "stream",
     "text": [
      "Epoch 1/25\n",
      "\u001b[1m 122/1795\u001b[0m \u001b[32m━\u001b[0m\u001b[37m━━━━━━━━━━━━━━━━━━━\u001b[0m \u001b[1m53:39\u001b[0m 2s/step - accuracy: 0.3131 - loss: 1.8037"
     ]
    }
   ],
   "source": [
    "# Train the model on the dataset\n",
    "img_size = 224\n",
    "dataDirectory = \"train/\"\n",
    "batch_size = 16\n",
    "\n",
    "# Create an ImageDataGenerator for real-time data augmentation and rescaling\n",
    "datagen = ImageDataGenerator(rescale=1.0 / 255)\n",
    "\n",
    "\n",
    "train_generator = datagen.flow_from_directory(\n",
    "    dataDirectory,\n",
    "    target_size=(img_size, img_size),\n",
    "    batch_size=batch_size,\n",
    "    class_mode='sparse',\n",
    "    shuffle=True\n",
    ")\n",
    "\n",
    "modified_model.fit(train_generator, epochs = 25)\n",
    "modified_model.save('Final_model_95p07.keras')"
   ]
  },
  {
   "cell_type": "code",
   "execution_count": null,
   "id": "9c2cc37c-a53e-40f8-80db-cca6d21d7077",
   "metadata": {},
   "outputs": [],
   "source": [
    "# Load the trained model\n",
    "modified_model = tf.keras.models.load_model('Final_model_95p07.keras')"
   ]
  },
  {
   "cell_type": "code",
   "execution_count": null,
   "id": "d818e186-56ea-42d3-90c7-708a50f9394b",
   "metadata": {},
   "outputs": [],
   "source": [
    "# Ne sum proverqval nadolu\n",
    "frame = cv2.imread(\"happy.jpg\")"
   ]
  },
  {
   "cell_type": "code",
   "execution_count": null,
   "id": "5f44ad97-1c21-4589-9f42-3dd98249799a",
   "metadata": {},
   "outputs": [],
   "source": [
    "frame.shape"
   ]
  },
  {
   "cell_type": "code",
   "execution_count": null,
   "id": "c5070acf-f123-449a-b9e5-db93a809113f",
   "metadata": {},
   "outputs": [],
   "source": [
    "plt.imshow(cv2.cvtColor(frame, cv2.COLOR_BGR2RGB))"
   ]
  },
  {
   "cell_type": "code",
   "execution_count": null,
   "id": "b370d300-ea30-4868-9ca0-bbedaf704517",
   "metadata": {},
   "outputs": [],
   "source": [
    "caseCascade = cv2.CascadeClassifier(cv2.data.haarcascades + \"haarcascade_frontalface_default.xml\")"
   ]
  },
  {
   "cell_type": "code",
   "execution_count": null,
   "id": "7eb0a6b1-035a-4ebb-ab93-959fb090a3c1",
   "metadata": {},
   "outputs": [],
   "source": [
    "gray = cv2.cvtColor(frame, cv2.COLOR_BGR2GRAY)"
   ]
  },
  {
   "cell_type": "code",
   "execution_count": null,
   "id": "8d42f799-df4f-4101-a64b-155d9b067d40",
   "metadata": {},
   "outputs": [],
   "source": [
    "faces = faceCascade.detectMultiScale(gray, 1.1, 4)\n",
    "    for x,y,w,h in faces:\n",
    "        roi_gray = gray[y:y+h, x:x+w]\n",
    "        roi_color = frame[y:y+h, x:x+w]\n",
    "        cv2.rectangle(frame, (x,y), (x+w, y+h), (255,0,0), 2)\n",
    "        facess = faceCascade.detectMultiScale(roi_gray)\n",
    "        if len(facess) == 0:\n",
    "            print(\"Face not detected\")\n",
    "        else:\n",
    "            for (ex,ey,ew,eh) in facess:\n",
    "                face_roi = roi_color[ey: ey+eh, ex: ex+ew]   "
   ]
  },
  {
   "cell_type": "code",
   "execution_count": null,
   "id": "a8d5eb94-276a-48ec-820e-cf5c40e993e8",
   "metadata": {},
   "outputs": [],
   "source": [
    "import cv2\n",
    "import numpy as np\n",
    "\n",
    "path = \"haarcascade_frontalface_default.xml\"\n",
    "font_scale = 1.5\n",
    "font = cv2.FONT_HERSHEY_PLAIN\n",
    "rectangle_bgr = (255, 255, 255)\n",
    "img = np.zeros((500, 500))\n",
    "text = \"Some text in the box!\"\n",
    "(text_width, text_height) = cv2.getTextSize(text, font, fontScale=font_scale, thickness=1)[0]\n",
    "text_offset_x = 10\n",
    "text_offset_y = img.shape[0] - 25\n",
    "box_coords = ((text_offset_x, text_offset_y), (text_offset_x + text_width + 2, text_offset_y - text_height - 2))\n",
    "cv2.rectangle(img, box_coords[0], box_coords[1], rectangle_bgr, cv2.FILLED)\n",
    "cv2.putText(img, text, (text_offset_x, text_offset_y), font, fontScale=font_scale, color=(0, 0, 0), thickness=1)\n",
    "cap = cv2.VideoCapture(0)\n",
    "if not cap.isOpened():\n",
    "    raise IOError(\"Cannot open webcamera\")\n",
    "\n",
    "faceCascade = cv2.CascadeClassifier(cv2.data.haarcascades + \"haarcascade_frontalface_default.xml\")\n",
    "\n",
    "while True:\n",
    "    ret, frame = cap.read()\n",
    "    if not ret:\n",
    "        print(\"Failed to grab frame.\")\n",
    "        break\n",
    "    gray = cv2.cvtColor(frame, cv2.COLOR_BGR2GRAY)\n",
    "    faces = faceCascade.detectMultiScale(gray, 1.1, 4)\n",
    "    for x,y,w,h in faces:\n",
    "        roi_gray = gray[y:y+h, x:x+w]\n",
    "        roi_color = frame[y:y+h, x:x+w]\n",
    "        cv2.rectangle(frame, (x,y), (x+w, y+h), (255,0,0), 2)\n",
    "        facess = faceCascade.detectMultiScale(roi_gray)\n",
    "        if len(facess) == 0:\n",
    "            print(\"Face not detected\")\n",
    "        else:\n",
    "            for (ex,ey,ew,eh) in facess:\n",
    "                face_roi = roi_color[ey: ey+eh, ex: ex+ew]           \n",
    "                final_image = cv2.resize(face_roi, (224,224))\n",
    "                final_image = np.expand_dims(final_image, axis =0)\n",
    "                final_image = final_image/255.0\n",
    "    \n",
    "                font = cv2.FONT_HERSHEY_SIMPLEX\n",
    "                Predictions = new_model.predict(final_image)\n",
    "                font_scale = 1.5\n",
    "                font = cv2.FONT_HERSHEY_PLAIN\n",
    "\n",
    "                if (np.argmax(Predictions)==0):\n",
    "                    status = \"Angry\"\n",
    "                    x1,y1,w1,h1 = 0,0,175,75\n",
    "                    cv2.rectangle(frame, (x1,x1), (x1 + w1, y1 + h1), (0,0,0), -1)\n",
    "                    cv2.putText(frame, status, (100,150), font, 3,(0,0,255),2,cv2.LINE_4)\n",
    "                    cv2.rectangle(frame, (x, y), (x+w, y+h), (0,0,255))\n",
    "\n",
    "                elif (np.argmax(Predictions)==1):\n",
    "                    status = \"Disgust\"\n",
    "                    x1,y1,w1,h1 = 0,0,175,75\n",
    "                    cv2.rectangle(frame, (x1,x1), (x1 + w1, y1 + h1), (0,0,0), -1)\n",
    "                    cv2.putText(frame, status, (x1 + int(w1/10),y1 + int(h1/2)), cv2.FONT_HERSHEY_SIMPLEX, 0.7, (0,0,255), 2)\n",
    "                    cv2.putText(frame, status, (100,150), font, 3,(0,0,255),2,cv2.LINE_4)\n",
    "                    cv2.rectangle(frame, (x, y), (x+w, y+h), (0,0,255))\n",
    "\n",
    "                elif (np.argmax(Predictions)==2):\n",
    "                    status = \"Fear\"\n",
    "                    x1,y1,w1,h1 = 0,0,175,75\n",
    "                    cv2.rectangle(frame, (x1,x1), (x1 + w1, y1 + h1), (0,0,0), -1)\n",
    "                    cv2.putText(frame, status, (x1 + int(w1/10),y1 + int(h1/2)), cv2.FONT_HERSHEY_SIMPLEX, 0.7, (0,0,255), 2)\n",
    "                    cv2.putText(frame, status, (100,150), font, 3,(0,0,255),2,cv2.LINE_4)\n",
    "                    cv2.rectangle(frame, (x, y), (x+w, y+h), (0,0,255))\n",
    "\n",
    "                elif (np.argmax(Predictions)==3):\n",
    "                    status = \"Happy\"\n",
    "                    x1,y1,w1,h1 = 0,0,175,75\n",
    "                    cv2.rectangle(frame, (x1,x1), (x1 + w1, y1 + h1), (0,0,0), -1)\n",
    "                    cv2.putText(frame, status, (x1 + int(w1/10),y1 + int(h1/2)), cv2.FONT_HERSHEY_SIMPLEX, 0.7, (0,0,255), 2)\n",
    "                    cv2.putText(frame, status, (100,150), font, 3,(0,0,255),2,cv2.LINE_4)\n",
    "                    cv2.rectangle(frame, (x, y), (x+w, y+h), (0,0,255))\n",
    "\n",
    "                elif (np.argmax(Predictions)==4):\n",
    "                    status = \"Sad\"\n",
    "                    x1,y1,w1,h1 = 0,0,175,75\n",
    "                    cv2.rectangle(frame, (x1,x1), (x1 + w1, y1 + h1), (0,0,0), -1)\n",
    "                    cv2.putText(frame, status, (x1 + int(w1/10),y1 + int(h1/2)), cv2.FONT_HERSHEY_SIMPLEX, 0.7, (0,0,255), 2)\n",
    "                    cv2.putText(frame, status, (100,150), font, 3,(0,0,255),2,cv2.LINE_4)\n",
    "                    cv2.rectangle(frame, (x, y), (x+w, y+h), (0,0,255))\n",
    "\n",
    "                elif (np.argmax(Predictions)==5):\n",
    "                    status = \"Surpise\"\n",
    "                    x1,y1,w1,h1 = 0,0,175,75\n",
    "                    cv2.rectangle(frame, (x1,x1), (x1 + w1, y1 + h1), (0,0,0), -1)\n",
    "                    cv2.putText(frame, status, (x1 + int(w1/10),y1 + int(h1/2)), cv2.FONT_HERSHEY_SIMPLEX, 0.7, (0,0,255), 2)\n",
    "                    cv2.putText(frame, status, (100,150), font, 3,(0,0,255),2,cv2.LINE_4)\n",
    "                    cv2.rectangle(frame, (x, y), (x+w, y+h), (0,0,255))\n",
    "\n",
    "                else:\n",
    "                    status = \"Neutral\"\n",
    "                    x1,y1,w1,h1 = 0,0,175,75\n",
    "                    cv2.rectangle(frame, (x1,x1), (x1 + w1, y1 + h1), (0,0,0), -1)\n",
    "                    cv2.putText(frame, status, (x1 + int(w1/10),y1 + int(h1/2)), cv2.FONT_HERSHEY_SIMPLEX, 0.7, (0,0,255), 2)\n",
    "                    cv2.putText(frame, status, (100,150), font, 3,(0,0,255),2,cv2.LINE_4)\n",
    "                    cv2.rectangle(frame, (x, y), (x+w, y+h), (0,0,255))\n",
    "\n",
    "    cv2.imshow(\"Face Emotion recognition\",frame)    \n",
    "    if cv2.waitKey(2) & 0xFF == ord('q'):\n",
    "        break\n",
    "\n",
    "cap.release()\n",
    "cv2.destroyAllWindows()"
   ]
  },
  {
   "cell_type": "code",
   "execution_count": null,
   "id": "d49403f3-c5a9-4c2b-a012-74402e41a3fa",
   "metadata": {},
   "outputs": [],
   "source": []
  },
  {
   "cell_type": "code",
   "execution_count": null,
   "id": "bf5e8cc8-7d3a-4944-aca2-26a7485bb423",
   "metadata": {},
   "outputs": [],
   "source": []
  }
 ],
 "metadata": {
  "kernelspec": {
   "display_name": "TF-GPU",
   "language": "python",
   "name": "tf"
  },
  "language_info": {
   "codemirror_mode": {
    "name": "ipython",
    "version": 3
   },
   "file_extension": ".py",
   "mimetype": "text/x-python",
   "name": "python",
   "nbconvert_exporter": "python",
   "pygments_lexer": "ipython3",
   "version": "3.9.19"
  }
 },
 "nbformat": 4,
 "nbformat_minor": 5
}
